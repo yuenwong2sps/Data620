{
 "cells": [
  {
   "cell_type": "code",
   "execution_count": null,
   "metadata": {},
   "outputs": [],
   "source": [
    "Group 3 - Project 1\n",
    "Flights Delays and Cancellation"
   ]
  },
  {
   "cell_type": "markdown",
   "metadata": {},
   "source": [
    "## Data"
   ]
  },
  {
   "cell_type": "markdown",
   "metadata": {},
   "source": [
    "The U.S. Department of Transportation's (DOT) Bureau of Transportation Statistics tracks the on-time performance of domestic flights operated by large air carriers. Summary information on the number of on-time, delayed, canceled, and diverted flights is published in DOT's monthly Air Travel Consumer Report and in this dataset of 2015 flight delays and cancellations.\n",
    "https://www.kaggle.com/usdot/flight-delays/home\n",
    "In \"flights.csv\"\n",
    "Rows: 5819079\n",
    "Columns: 31\n",
    "\n",
    "Index(['YEAR', 'MONTH', 'DAY', 'DAY_OF_WEEK', 'AIRLINE', 'FLIGHT_NUMBER',\n",
    "       'TAIL_NUMBER', 'ORIGIN_AIRPORT', 'DESTINATION_AIRPORT',\n",
    "       'SCHEDULED_DEPARTURE', 'DEPARTURE_TIME', 'DEPARTURE_DELAY', 'TAXI_OUT',\n",
    "       'WHEELS_OFF', 'SCHEDULED_TIME', 'ELAPSED_TIME', 'AIR_TIME', 'DISTANCE',\n",
    "       'WHEELS_ON', 'TAXI_IN', 'SCHEDULED_ARRIVAL', 'ARRIVAL_TIME',\n",
    "       'ARRIVAL_DELAY', 'DIVERTED', 'CANCELLED', 'CANCELLATION_REASON',\n",
    "       'AIR_SYSTEM_DELAY', 'SECURITY_DELAY', 'AIRLINE_DELAY',\n",
    "       'LATE_AIRCRAFT_DELAY', 'WEATHER_DELAY'],\n",
    "      dtype='object')"
   ]
  },
  {
   "cell_type": "markdown",
   "metadata": {},
   "source": [
    "## Check files existence"
   ]
  },
  {
   "cell_type": "code",
   "execution_count": 1,
   "metadata": {},
   "outputs": [
    {
     "name": "stdout",
     "output_type": "stream",
     "text": [
      "['flights.csv', 'networkX_sample.ipynb', 'test.txt', 'airlines.csv', 'flights2.csv', '620Group3_Project1_ver2.ipynb', '620Group3_Project1.ipynb', '620Group3_Project1_ver2.pdf', '620Group3_Project1_version1.pdf', 'small_flights.csv', 'airports.csv', '.ipynb_checkpoints']\n"
     ]
    }
   ],
   "source": [
    "\n",
    "import os\n",
    "print(os.listdir(\".\"))"
   ]
  },
  {
   "cell_type": "markdown",
   "metadata": {},
   "source": [
    "## Read flights to networkx"
   ]
  },
  {
   "cell_type": "markdown",
   "metadata": {},
   "source": [
    "### either by raw csv or from Saved Pajek file"
   ]
  },
  {
   "cell_type": "code",
   "execution_count": 2,
   "metadata": {},
   "outputs": [],
   "source": [
    "import networkx as nx\n",
    "import matplotlib.pyplot as plt\n",
    "\n",
    "\n",
    "\n",
    "g=nx.DiGraph()\n"
   ]
  },
  {
   "cell_type": "code",
   "execution_count": 3,
   "metadata": {},
   "outputs": [],
   "source": [
    "def is_number(n):\n",
    "    is_number = True\n",
    "    try:\n",
    "        num = float(n)\n",
    "        # check for \"nan\" floats\n",
    "        is_number = num == num   # or use `math.isnan(num)`\n",
    "    except ValueError:\n",
    "        is_number = False\n",
    "    return is_number"
   ]
  },
  {
   "cell_type": "code",
   "execution_count": 25,
   "metadata": {},
   "outputs": [
    {
     "name": "stdout",
     "output_type": "stream",
     "text": [
      "read from flights.csv\n",
      "Name: \n",
      "Type: DiGraph\n",
      "Number of nodes: 322\n",
      "Number of edges: 4691\n",
      "Average in degree:  14.5683\n",
      "Average out degree:  14.5683\n"
     ]
    }
   ],
   "source": [
    "\n",
    "#read and add to graph if pajet network data doesn't exist\n",
    "\n",
    "if not os.path.isfile(r'flights_edges.txt'):\n",
    "    print(\"read from flights.csv\")\n",
    "    myfile = open(\"flights.csv\", encoding='utf-8' )\n",
    "\n",
    "\n",
    "    line = myfile.readline() \n",
    "\n",
    "    while line:\n",
    "        line = myfile.readline()\n",
    "        v = line.split(',')\n",
    "\n",
    "        if( len(v) == 31 ):\n",
    "            if( len(v[7]) == 3 and len(v[8]) == 3 and is_number(v[11]) ): #skip airport code is not xxx\n",
    "                length_value = int(v[11])\n",
    "                g.add_weighted_edges_from([(v[7], v[8],length_value)])\n",
    "\n",
    "    myfile.close()\n",
    "    print (nx.info(g))\n",
    "    #Saving network data\n",
    "    nx.write_pajek(g,r'flights_edges.txt')\n",
    "\n",
    "else:\n",
    "    print(\"read from flight_edges.txt\")\n",
    "    g = nx.read_pajek(r'flights_edges.txt')\n",
    "    print (nx.info(g))"
   ]
  },
  {
   "cell_type": "markdown",
   "metadata": {},
   "source": [
    "## Compute network data"
   ]
  },
  {
   "cell_type": "markdown",
   "metadata": {},
   "source": [
    "### Degrees = the most connected airports"
   ]
  },
  {
   "cell_type": "code",
   "execution_count": 26,
   "metadata": {},
   "outputs": [],
   "source": [
    "deg = nx.degree(g)\n"
   ]
  },
  {
   "cell_type": "markdown",
   "metadata": {},
   "source": [
    "check deg data type"
   ]
  },
  {
   "cell_type": "code",
   "execution_count": 27,
   "metadata": {},
   "outputs": [
    {
     "data": {
      "text/plain": [
       "networkx.classes.reportviews.DiDegreeView"
      ]
     },
     "execution_count": 27,
     "metadata": {},
     "output_type": "execute_result"
    }
   ],
   "source": [
    "type(deg)\n"
   ]
  },
  {
   "cell_type": "markdown",
   "metadata": {},
   "source": [
    "DiDegreeView return two-tuple (node, degree) according to networkX documentation"
   ]
  },
  {
   "cell_type": "markdown",
   "metadata": {},
   "source": [
    "Sort DiDegreeView to find min and max degree"
   ]
  },
  {
   "cell_type": "code",
   "execution_count": 28,
   "metadata": {},
   "outputs": [],
   "source": [
    "def sorted_map(map):\n",
    "    ms = sorted(map, key=lambda x: (-x[1],x[0]))\n",
    "    return ms\n",
    "\n",
    "sorted_deg = sorted_map(deg)"
   ]
  },
  {
   "cell_type": "code",
   "execution_count": 29,
   "metadata": {},
   "outputs": [
    {
     "name": "stdout",
     "output_type": "stream",
     "text": [
      "ATL 338\n",
      "ORD 324\n",
      "DFW 297\n",
      "DEN 279\n",
      "MSP 240\n",
      "IAH 238\n",
      "DTW 224\n",
      "SLC 179\n",
      "EWR 174\n",
      "LAX 161\n",
      "SFO 161\n",
      "PHX 157\n",
      "LAS 156\n",
      "MCO 148\n",
      "SEA 146\n",
      "LGA 139\n",
      "CLT 138\n",
      "IAD 138\n",
      "MDW 138\n",
      "BWI 134\n",
      "JFK 129\n",
      "BOS 124\n",
      "TPA 122\n",
      "FLL 120\n",
      "DCA 116\n",
      "MIA 109\n",
      "DAL 104\n",
      "HOU 102\n",
      "STL 97\n",
      "PDX 95\n",
      "BNA 93\n",
      "PHL 93\n",
      "SAN 93\n",
      "AUS 84\n",
      "CVG 81\n",
      "MCI 81\n",
      "RSW 79\n",
      "MSY 75\n",
      "CLE 72\n",
      "RDU 71\n",
      "OAK 69\n",
      "ANC 60\n",
      "IND 60\n",
      "PIT 60\n",
      "SAT 60\n",
      "MKE 58\n",
      "CMH 57\n",
      "HNL 56\n",
      "SMF 54\n",
      "BDL 50\n",
      "PBI 50\n",
      "SJC 50\n",
      "ABQ 46\n",
      "CHS 46\n",
      "MEM 46\n",
      "SJU 46\n",
      "JAX 44\n",
      "OKC 44\n",
      "SNA 44\n",
      "OMA 40\n",
      "TTN 37\n",
      "BUF 36\n",
      "OGG 36\n",
      "SDF 36\n",
      "TUL 35\n",
      "MSN 34\n",
      "MYR 34\n",
      "RIC 34\n",
      "ORF 33\n",
      "BOI 32\n",
      "TUS 32\n",
      "BHM 31\n",
      "GRR 31\n",
      "PVD 30\n",
      "ALB 29\n",
      "ONT 28\n",
      "GSP 27\n",
      "DSM 26\n",
      "JAC 26\n",
      "RNO 26\n",
      "ROC 26\n",
      "BZN 24\n",
      "CAK 24\n",
      "DAY 24\n",
      "ELP 24\n",
      "KOA 24\n",
      "LGB 24\n",
      "LIT 24\n",
      "PSP 24\n",
      "STT 24\n",
      "MHT 23\n",
      "BUR 22\n",
      "GSO 22\n",
      "LIH 22\n",
      "PWM 22\n",
      "SYR 22\n",
      "XNA 22\n",
      "EGE 21\n",
      "SAV 21\n",
      "ACY 20\n",
      "GEG 20\n",
      "HDN 20\n",
      "ICT 20\n",
      "MTJ 20\n",
      "TYS 20\n",
      "COS 19\n",
      "FAT 18\n",
      "HPN 18\n",
      "PNS 18\n",
      "ASE 17\n",
      "LEX 17\n",
      "FNT 16\n",
      "HSV 16\n",
      "PIA 16\n",
      "RAP 16\n",
      "LBB 15\n",
      "MSO 15\n",
      "BMI 14\n",
      "BTV 14\n",
      "CID 14\n",
      "ECP 14\n",
      "JNU 14\n",
      "LBE 14\n",
      "SRQ 14\n",
      "CAE 13\n",
      "CRW 13\n",
      "FAR 13\n",
      "GJT 13\n",
      "SBN 13\n",
      "FSD 12\n",
      "ISP 12\n",
      "MAF 12\n",
      "MDT 12\n",
      "MLI 12\n",
      "SBA 12\n",
      "TVC 12\n",
      "AMA 11\n",
      "BIL 11\n",
      "FCA 11\n",
      "SGF 11\n",
      "EUG 10\n",
      "FWA 10\n",
      "LNK 10\n",
      "PSC 10\n",
      "SWF 10\n",
      "ATW 9\n",
      "FAI 9\n",
      "JAN 9\n",
      "LFT 9\n",
      "MOB 9\n",
      "RST 9\n",
      "AVP 8\n",
      "AZO 8\n",
      "BFL 8\n",
      "BIS 8\n",
      "BLI 8\n",
      "BQN 8\n",
      "BTR 8\n",
      "CHA 8\n",
      "CRP 8\n",
      "EVV 8\n",
      "GRB 8\n",
      "GUC 8\n",
      "HRL 8\n",
      "KTN 8\n",
      "LAN 8\n",
      "MBS 8\n",
      "RDM 8\n",
      "SHV 8\n",
      "STX 8\n",
      "ABE 7\n",
      "COD 7\n",
      "GCC 7\n",
      "GRK 7\n",
      "ROA 7\n",
      "SCE 7\n",
      "ACK 6\n",
      "AEX 6\n",
      "AVL 6\n",
      "CHO 6\n",
      "CWA 6\n",
      "DRO 6\n",
      "ELM 6\n",
      "EYW 6\n",
      "GPT 6\n",
      "GTF 6\n",
      "HLN 6\n",
      "IDA 6\n",
      "ILM 6\n",
      "INL 6\n",
      "ISN 6\n",
      "ITO 6\n",
      "JMS 6\n",
      "MFR 6\n",
      "MLU 6\n",
      "MRY 6\n",
      "RKS 6\n",
      "SAF 6\n",
      "SBP 6\n",
      "SIT 6\n",
      "SUN 6\n",
      "TLH 6\n",
      "VPS 6\n",
      "AGS 5\n",
      "BRW 5\n",
      "CLL 5\n",
      "DLH 5\n",
      "LRD 5\n",
      "MEI 5\n",
      "PHF 5\n",
      "BGR 4\n",
      "BRD 4\n",
      "BRO 4\n",
      "CDV 4\n",
      "CMI 4\n",
      "COU 4\n",
      "CPR 4\n",
      "DAB 4\n",
      "DIK 4\n",
      "ERI 4\n",
      "FSM 4\n",
      "GNV 4\n",
      "HIB 4\n",
      "IAG 4\n",
      "ILG 4\n",
      "IMT 4\n",
      "LCH 4\n",
      "LSE 4\n",
      "MFE 4\n",
      "MGM 4\n",
      "MHK 4\n",
      "MMH 4\n",
      "MOT 4\n",
      "MQT 4\n",
      "MVY 4\n",
      "OME 4\n",
      "ORH 4\n",
      "OTH 4\n",
      "OTZ 4\n",
      "PBG 4\n",
      "PSE 4\n",
      "PSG 4\n",
      "RHI 4\n",
      "SCC 4\n",
      "SGU 4\n",
      "SMX 4\n",
      "SPI 4\n",
      "TYR 4\n",
      "UST 4\n",
      "WRG 4\n",
      "YAK 4\n",
      "BQK 3\n",
      "BTM 3\n",
      "CIU 3\n",
      "DVL 3\n",
      "HYS 3\n",
      "LAR 3\n",
      "PIB 3\n",
      "PLN 3\n",
      "ABI 2\n",
      "ABR 2\n",
      "ABY 2\n",
      "ACT 2\n",
      "ACV 2\n",
      "ADK 2\n",
      "ADQ 2\n",
      "AKN 2\n",
      "ALO 2\n",
      "APN 2\n",
      "BET 2\n",
      "BGM 2\n",
      "BJI 2\n",
      "BPT 2\n",
      "CDC 2\n",
      "CEC 2\n",
      "CLD 2\n",
      "CMX 2\n",
      "CNY 2\n",
      "CSG 2\n",
      "DBQ 2\n",
      "DHN 2\n",
      "DLG 2\n",
      "EAU 2\n",
      "EKO 2\n",
      "ESC 2\n",
      "EWN 2\n",
      "FAY 2\n",
      "FLG 2\n",
      "GCK 2\n",
      "GFK 2\n",
      "GGG 2\n",
      "GRI 2\n",
      "GST 2\n",
      "GTR 2\n",
      "GUM 2\n",
      "HOB 2\n",
      "HYA 2\n",
      "ITH 2\n",
      "JLN 2\n",
      "LAW 2\n",
      "LWS 2\n",
      "MKG 2\n",
      "MLB 2\n",
      "OAJ 2\n",
      "PAH 2\n",
      "PIH 2\n",
      "PPG 2\n",
      "PUB 2\n",
      "RDD 2\n",
      "ROW 2\n",
      "SJT 2\n",
      "SPS 2\n",
      "STC 2\n",
      "SUX 2\n",
      "TOL 2\n",
      "TRI 2\n",
      "TWF 2\n",
      "TXK 2\n",
      "VEL 2\n",
      "VLD 2\n",
      "WYS 2\n",
      "YUM 2\n"
     ]
    }
   ],
   "source": [
    "for node, degree in sorted_deg:\n",
    "    print (node, degree)"
   ]
  },
  {
   "cell_type": "markdown",
   "metadata": {},
   "source": [
    "Top 10 Nodes by Degree"
   ]
  },
  {
   "cell_type": "code",
   "execution_count": 30,
   "metadata": {},
   "outputs": [
    {
     "data": {
      "text/plain": [
       "[('ATL', 338),\n",
       " ('ORD', 324),\n",
       " ('DFW', 297),\n",
       " ('DEN', 279),\n",
       " ('MSP', 240),\n",
       " ('IAH', 238),\n",
       " ('DTW', 224),\n",
       " ('SLC', 179),\n",
       " ('EWR', 174),\n",
       " ('LAX', 161)]"
      ]
     },
     "execution_count": 30,
     "metadata": {},
     "output_type": "execute_result"
    }
   ],
   "source": [
    "sorted_deg[0:10]"
   ]
  },
  {
   "cell_type": "markdown",
   "metadata": {},
   "source": [
    "Bottem 10 Nodes with Degree"
   ]
  },
  {
   "cell_type": "code",
   "execution_count": 31,
   "metadata": {},
   "outputs": [
    {
     "data": {
      "text/plain": [
       "[('STC', 2),\n",
       " ('SUX', 2),\n",
       " ('TOL', 2),\n",
       " ('TRI', 2),\n",
       " ('TWF', 2),\n",
       " ('TXK', 2),\n",
       " ('VEL', 2),\n",
       " ('VLD', 2),\n",
       " ('WYS', 2),\n",
       " ('YUM', 2)]"
      ]
     },
     "execution_count": 31,
     "metadata": {},
     "output_type": "execute_result"
    }
   ],
   "source": [
    "sorted_deg[-10:]"
   ]
  },
  {
   "cell_type": "markdown",
   "metadata": {},
   "source": [
    "### Trim Degree function"
   ]
  },
  {
   "cell_type": "code",
   "execution_count": 32,
   "metadata": {},
   "outputs": [],
   "source": [
    "def trim_degree(g,degree=1):\n",
    "    g2 = g.copy()\n",
    "    d = nx.degree(g2)\n",
    "    for n in g.nodes():\n",
    "        if d[n] <= degree: g2.remove_node(n)\n",
    "    return g2\n"
   ]
  },
  {
   "cell_type": "markdown",
   "metadata": {},
   "source": [
    "get top nodes\n"
   ]
  },
  {
   "cell_type": "code",
   "execution_count": 33,
   "metadata": {},
   "outputs": [],
   "source": [
    "topnodes =trim_degree(g,161)"
   ]
  },
  {
   "cell_type": "markdown",
   "metadata": {},
   "source": [
    "Check # of nodes and print nodes"
   ]
  },
  {
   "cell_type": "code",
   "execution_count": 34,
   "metadata": {},
   "outputs": [
    {
     "data": {
      "text/plain": [
       "8"
      ]
     },
     "execution_count": 34,
     "metadata": {},
     "output_type": "execute_result"
    }
   ],
   "source": [
    "len(topnodes)"
   ]
  },
  {
   "cell_type": "code",
   "execution_count": 35,
   "metadata": {},
   "outputs": [
    {
     "data": {
      "image/png": "[encoded data removed]",
      "text/plain": [
       "<Figure size 432x288 with 1 Axes>"
      ]
     },
     "metadata": {},
     "output_type": "display_data"
    }
   ],
   "source": [
    "nx.draw(topnodes)"
   ]
  },
  {
   "cell_type": "markdown",
   "metadata": {},
   "source": [
    "## Calculate Centrality"
   ]
  },
  {
   "cell_type": "markdown",
   "metadata": {},
   "source": [
    "### Closeness Centrality"
   ]
  },
  {
   "cell_type": "code",
   "execution_count": 38,
   "metadata": {},
   "outputs": [],
   "source": [
    "c = nx.closeness_centrality(topnodes)"
   ]
  },
  {
   "cell_type": "code",
   "execution_count": 39,
   "metadata": {},
   "outputs": [
    {
     "data": {
      "text/plain": [
       "dict"
      ]
     },
     "execution_count": 39,
     "metadata": {},
     "output_type": "execute_result"
    }
   ],
   "source": [
    "type(c)"
   ]
  },
  {
   "cell_type": "code",
   "execution_count": 40,
   "metadata": {},
   "outputs": [
    {
     "name": "stdout",
     "output_type": "stream",
     "text": [
      "{'MSP': 1.0, 'DFW': 1.0, 'ATL': 1.0, 'DEN': 1.0, 'SLC': 1.0, 'IAH': 1.0, 'ORD': 1.0, 'DTW': 1.0}\n"
     ]
    }
   ],
   "source": [
    "print(c)"
   ]
  },
  {
   "cell_type": "markdown",
   "metadata": {},
   "source": [
    "### eigenvector_centrality"
   ]
  },
  {
   "cell_type": "code",
   "execution_count": 42,
   "metadata": {},
   "outputs": [],
   "source": [
    "ec = nx.eigenvector_centrality(topnodes)\n"
   ]
  },
  {
   "cell_type": "code",
   "execution_count": 43,
   "metadata": {},
   "outputs": [
    {
     "data": {
      "text/plain": [
       "dict"
      ]
     },
     "execution_count": 43,
     "metadata": {},
     "output_type": "execute_result"
    }
   ],
   "source": [
    "type(ec)"
   ]
  },
  {
   "cell_type": "code",
   "execution_count": 44,
   "metadata": {},
   "outputs": [
    {
     "name": "stdout",
     "output_type": "stream",
     "text": [
      "{'MSP': 0.3535533905932738, 'DFW': 0.3535533905932738, 'ATL': 0.3535533905932738, 'DEN': 0.3535533905932738, 'SLC': 0.3535533905932738, 'IAH': 0.3535533905932738, 'ORD': 0.3535533905932738, 'DTW': 0.3535533905932738}\n"
     ]
    }
   ],
   "source": [
    "print(ec)"
   ]
  },
  {
   "cell_type": "code",
   "execution_count": null,
   "metadata": {},
   "outputs": [],
   "source": []
  }
 ],
 "metadata": {
  "kernelspec": {
   "display_name": "Python 3",
   "language": "python",
   "name": "python3"
  },
  "language_info": {
   "codemirror_mode": {
    "name": "ipython",
    "version": 3
   },
   "file_extension": ".py",
   "mimetype": "text/x-python",
   "name": "python",
   "nbconvert_exporter": "python",
   "pygments_lexer": "ipython3",
   "version": "3.7.0"
  }
 },
 "nbformat": 4,
 "nbformat_minor": 2
}
