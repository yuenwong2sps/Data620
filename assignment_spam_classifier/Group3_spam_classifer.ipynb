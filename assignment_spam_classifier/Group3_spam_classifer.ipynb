{
  "nbformat": 4,
  "nbformat_minor": 0,
  "metadata": {
    "colab": {
      "name": "Week11_spam_classifier.ipynb",
      "version": "0.3.2",
      "provenance": [],
      "collapsed_sections": []
    },
    "kernelspec": {
      "name": "python3",
      "display_name": "Python 3"
    }
  },
  "cells": [
    {
      "metadata": {
        "id": "uq_7iahQUt1-",
        "colab_type": "text"
      },
      "cell_type": "markdown",
      "source": [
        "Group 3"
      ]
    },
    {
      "metadata": {
        "id": "5CwXVG46Ui6e",
        "colab_type": "code",
        "colab": {}
      },
      "cell_type": "code",
      "source": [
        ""
      ],
      "execution_count": 0,
      "outputs": []
    },
    {
      "metadata": {
        "id": "lq559gYlVeHF",
        "colab_type": "code",
        "colab": {}
      },
      "cell_type": "code",
      "source": [
        "import numpy as np\n",
        "import pandas as pd\n",
        "import matplotlib.pyplot as plt\n",
        "from pandas import Series, DataFrame\n",
        "\n",
        "import scipy\n",
        "from scipy.stats import spearmanr\n",
        "from pylab import rcParams\n",
        "import seaborn as sb\n",
        "import matplotlib.pyplot as plt\n",
        "\n",
        "import sklearn\n",
        "from sklearn.preprocessing import scale\n",
        "\n",
        "from sklearn.linear_model import LogisticRegression\n",
        "import xgboost\n",
        "\n",
        "from sklearn.model_selection import train_test_split\n",
        "from sklearn import metrics\n",
        "from sklearn import preprocessing\n",
        "\n",
        "from sklearn.metrics import classification_report\n",
        "from yellowbrick.classifier import ClassificationReport\n"
      ],
      "execution_count": 0,
      "outputs": []
    },
    {
      "metadata": {
        "id": "A1gVdEjJVfVL",
        "colab_type": "code",
        "colab": {}
      },
      "cell_type": "code",
      "source": [
        "url='https://github.com/yuenwong2sps/Data620/raw/master/assignment_spam_classifier/spambase_test/spambase.data'\n",
        "raw=pd.read_csv(url)\n"
      ],
      "execution_count": 0,
      "outputs": []
    },
    {
      "metadata": {
        "id": "Efc_xNmGWhP-",
        "colab_type": "code",
        "colab": {}
      },
      "cell_type": "code",
      "source": [
        "url_header='https://raw.githubusercontent.com/yuenwong2sps/Data620/master/assignment_spam_classifier/columnHeaders.csv'\n",
        "data_header=pd.read_csv(url_header)"
      ],
      "execution_count": 0,
      "outputs": []
    },
    {
      "metadata": {
        "id": "dipx3Q9TW6qU",
        "colab_type": "code",
        "colab": {}
      },
      "cell_type": "code",
      "source": [
        "raw.columns = data_header.columns\n"
      ],
      "execution_count": 0,
      "outputs": []
    },
    {
      "metadata": {
        "id": "08s4rSY4UA1e",
        "colab_type": "code",
        "colab": {
          "base_uri": "https://localhost:8080/",
          "height": 378
        },
        "outputId": "5d525f3c-ae62-47ab-b3bf-8e4ffcd2ca4e"
      },
      "cell_type": "code",
      "source": [
        "sb.countplot(x='is_spam',data=raw, palette = 'hls')\n"
      ],
      "execution_count": 7,
      "outputs": [
        {
          "output_type": "execute_result",
          "data": {
            "text/plain": [
              "<matplotlib.axes._subplots.AxesSubplot at 0x7fc323d5dc50>"
            ]
          },
          "metadata": {
            "tags": []
          },
          "execution_count": 7
        },
        {
          "output_type": "display_data",
          "data": {
            "image/png": "[encoded data removed]",
            "text/plain": [
              "<Figure size 576x396 with 1 Axes>"
            ]
          },
          "metadata": {
            "tags": []
          }
        }
      ]
    },
    {
      "metadata": {
        "id": "M7jRbE4wUlud",
        "colab_type": "text"
      },
      "cell_type": "markdown",
      "source": [
        "Ratio of spam and non-spam"
      ]
    },
    {
      "metadata": {
        "id": "YD8wvL-wUcNI",
        "colab_type": "code",
        "colab": {
          "base_uri": "https://localhost:8080/",
          "height": 34
        },
        "outputId": "553bd222-b2c6-430d-8df6-424cdd1b193a"
      },
      "cell_type": "code",
      "source": [
        "spam_ratio = round(len(raw[raw['is_spam']==1])/raw.shape[0],2)\n",
        "print(\"the spam message ratio in the given dataset is \" + str(spam_ratio))"
      ],
      "execution_count": 18,
      "outputs": [
        {
          "output_type": "stream",
          "text": [
            "the spam message ratio in the given dataset is 0.39\n"
          ],
          "name": "stdout"
        }
      ]
    },
    {
      "metadata": {
        "id": "QvRTiQNNWc4b",
        "colab_type": "text"
      },
      "cell_type": "markdown",
      "source": [
        "Check data shape"
      ]
    },
    {
      "metadata": {
        "id": "NwZWaUsMWAPL",
        "colab_type": "code",
        "colab": {
          "base_uri": "https://localhost:8080/",
          "height": 69
        },
        "outputId": "ec080449-a0fc-48a2-ad79-fc4621a71577"
      },
      "cell_type": "code",
      "source": [
        "\n",
        "\n",
        "from sklearn.model_selection import train_test_split\n",
        "\n",
        "train, test = train_test_split(raw, test_size=spam_ratio)\n",
        "\n",
        "\n",
        "from sklearn.model_selection import train_test_split\n",
        "\n",
        "# Create a data with all columns except is_spam\n",
        "raw_x = raw.drop(\"is_spam\", axis=1)\n",
        "\n",
        "# Create a is_spam labels dataset\n",
        "raw_y = raw[[\"is_spam\"]]\n",
        "\n",
        "# Use stratified sampling to split up the dataset according to the raw_y dataset\n",
        "# by default data will be split in 75% into train set and 25% into test set\n",
        "# spam vs non_spam is 1812 : 2788, nearly close to ratio 40% vs 60% \n",
        "# to use stratify sampling method to due with the unbalnace data set\n",
        "\n",
        "X_train, X_test, y_train, y_test = train_test_split(raw_x, raw_y, stratify=raw_y)\n",
        "\n",
        "# Print out the category_desc counts on the training y labels\n",
        "print(y_train[\"is_spam\"].value_counts())\n",
        "\n"
      ],
      "execution_count": 27,
      "outputs": [
        {
          "output_type": "stream",
          "text": [
            "0    2091\n",
            "1    1359\n",
            "Name: is_spam, dtype: int64\n"
          ],
          "name": "stdout"
        }
      ]
    },
    {
      "metadata": {
        "id": "_lOhOwBKX-8E",
        "colab_type": "code",
        "colab": {
          "base_uri": "https://localhost:8080/",
          "height": 86
        },
        "outputId": "c47114ad-c0a1-457c-c6e1-6cd6d29d87cf"
      },
      "cell_type": "code",
      "source": [
        "#set scales\n",
        "X_train_scale=scale(X_train)\n",
        "X_test_scale=scale(X_test)"
      ],
      "execution_count": 29,
      "outputs": [
        {
          "output_type": "stream",
          "text": [
            "/usr/local/lib/python3.6/dist-packages/ipykernel_launcher.py:1: DataConversionWarning: Data with input dtype int64, float64 were all converted to float64 by the scale function.\n",
            "  \"\"\"Entry point for launching an IPython kernel.\n",
            "/usr/local/lib/python3.6/dist-packages/ipykernel_launcher.py:2: DataConversionWarning: Data with input dtype int64, float64 were all converted to float64 by the scale function.\n",
            "  \n"
          ],
          "name": "stderr"
        }
      ]
    },
    {
      "metadata": {
        "id": "LRS9svlmYYiN",
        "colab_type": "text"
      },
      "cell_type": "markdown",
      "source": [
        "**Logistric Regression**"
      ]
    },
    {
      "metadata": {
        "id": "eKSnpRd7XxHw",
        "colab_type": "code",
        "colab": {
          "base_uri": "https://localhost:8080/",
          "height": 141
        },
        "outputId": "610dec79-8a57-4df8-a7a9-a4c64fe50394"
      },
      "cell_type": "code",
      "source": [
        "\n",
        "LogReg = LogisticRegression()\n",
        "LogRegmodel = ClassificationReport(LogReg, classes=[\"non_spam\",\"is_spam\"], support=True)\n",
        "LogRegmodel.fit(X_train_scale, y_train)  # Fit the visualizer and the model\n",
        "LogRegpreds=LogRegmodel.predict(X_test_scale)\n",
        "\n",
        "LogRegcm = metrics.confusion_matrix(y_test,LogRegpreds)\n",
        "print(LogRegcm)  "
      ],
      "execution_count": 30,
      "outputs": [
        {
          "output_type": "stream",
          "text": [
            "[[652  45]\n",
            " [ 58 395]]\n"
          ],
          "name": "stdout"
        },
        {
          "output_type": "stream",
          "text": [
            "/usr/local/lib/python3.6/dist-packages/sklearn/linear_model/logistic.py:433: FutureWarning: Default solver will be changed to 'lbfgs' in 0.22. Specify a solver to silence this warning.\n",
            "  FutureWarning)\n",
            "/usr/local/lib/python3.6/dist-packages/sklearn/utils/validation.py:761: DataConversionWarning: A column-vector y was passed when a 1d array was expected. Please change the shape of y to (n_samples, ), for example using ravel().\n",
            "  y = column_or_1d(y, warn=True)\n"
          ],
          "name": "stderr"
        }
      ]
    },
    {
      "metadata": {
        "id": "LN3172dTYXJH",
        "colab_type": "code",
        "colab": {
          "base_uri": "https://localhost:8080/",
          "height": 401
        },
        "outputId": "42a74852-7268-4270-95f0-7fd5de01c0bb"
      },
      "cell_type": "code",
      "source": [
        "LogRegmodel.score(X_test_scale, y_test)  # Evaluate the model on the test data\n",
        "g = LogRegmodel.poof()    "
      ],
      "execution_count": 31,
      "outputs": [
        {
          "output_type": "display_data",
          "data": {
            "image/png": "[encoded data removed]",
            "text/plain": [
              "<Figure size 576x396 with 2 Axes>"
            ]
          },
          "metadata": {
            "tags": []
          }
        }
      ]
    },
    {
      "metadata": {
        "id": "2TaUF8K9Y8QF",
        "colab_type": "text"
      },
      "cell_type": "markdown",
      "source": [
        "**XGB Classifier**"
      ]
    },
    {
      "metadata": {
        "id": "aKTpI0QvYyv7",
        "colab_type": "code",
        "colab": {
          "base_uri": "https://localhost:8080/",
          "height": 141
        },
        "outputId": "1fd3f077-6a58-436e-e9e6-d2f4b6179e29"
      },
      "cell_type": "code",
      "source": [
        "from xgboost import XGBClassifier\n",
        "XGboost= XGBClassifier()\n",
        "\n",
        "\n",
        "XGbmodel = ClassificationReport(XGboost, classes=[\"non_spam\",\"is_spam\"], support=True)\n",
        "\n",
        "XGbmodel.fit(X_train_scale, y_train)  # Fit the visualizer and the model\n",
        "\n",
        "XGbpeds=XGbmodel.predict(X_test_scale)\n",
        "\n",
        "XGbcm = metrics.confusion_matrix(y_test,XGbpeds)\n",
        "print(XGbcm) \n"
      ],
      "execution_count": 33,
      "outputs": [
        {
          "output_type": "stream",
          "text": [
            "/usr/local/lib/python3.6/dist-packages/sklearn/preprocessing/label.py:219: DataConversionWarning: A column-vector y was passed when a 1d array was expected. Please change the shape of y to (n_samples, ), for example using ravel().\n",
            "  y = column_or_1d(y, warn=True)\n",
            "/usr/local/lib/python3.6/dist-packages/sklearn/preprocessing/label.py:252: DataConversionWarning: A column-vector y was passed when a 1d array was expected. Please change the shape of y to (n_samples, ), for example using ravel().\n",
            "  y = column_or_1d(y, warn=True)\n"
          ],
          "name": "stderr"
        },
        {
          "output_type": "stream",
          "text": [
            "[[660  37]\n",
            " [ 39 414]]\n"
          ],
          "name": "stdout"
        }
      ]
    },
    {
      "metadata": {
        "id": "JKtoEcSKY0az",
        "colab_type": "code",
        "colab": {
          "base_uri": "https://localhost:8080/",
          "height": 401
        },
        "outputId": "f89504f3-7020-403c-b359-6ffa7a84be25"
      },
      "cell_type": "code",
      "source": [
        "XGbmodel.score(X_test_scale, y_test)  # Evaluate the model on the test data\n",
        "g = XGbmodel.poof()  "
      ],
      "execution_count": 34,
      "outputs": [
        {
          "output_type": "display_data",
          "data": {
            "image/png": "[encoded data removed]",
            "text/plain": [
              "<Figure size 576x396 with 2 Axes>"
            ]
          },
          "metadata": {
            "tags": []
          }
        }
      ]
    },
    {
      "metadata": {
        "id": "vHB9USuiZfru",
        "colab_type": "code",
        "colab": {}
      },
      "cell_type": "code",
      "source": [
        ""
      ],
      "execution_count": 0,
      "outputs": []
    },
    {
      "metadata": {
        "id": "kiga7PFnZge4",
        "colab_type": "text"
      },
      "cell_type": "markdown",
      "source": [
        "Conclusion:\n",
        "We believe XGB classifer produces better result.  More improvement can be done by reducing unused columns or more feature engineering."
      ]
    },
    {
      "metadata": {
        "id": "2GGG-vlmZVIJ",
        "colab_type": "text"
      },
      "cell_type": "markdown",
      "source": [
        "Reference\n",
        "\n",
        "https://video.search.yahoo.com/search/video?fr=mcafee&p=how+to+implement+logistic+regression+in+python#id=6&vid=0f274214b516e1e979961c642d143363&action=view\n",
        "\n",
        "https://github.com/WillKoehrsen/Data-Analysis/blob/master/bayesian_lr/Bayesian%20Linear%20Regression%20Project.ipynb\n",
        "\n",
        "https://towardsdatascience.com/bayesian-linear-regression-in-python-using-machine-learning-to-predict-student-grades-part-2-b72059a8ac7e\n",
        "\n",
        "https://www.scikit-yb.org/en/latest/api/classifier/classification_report.html\n",
        "\n"
      ]
    }
  ]
}