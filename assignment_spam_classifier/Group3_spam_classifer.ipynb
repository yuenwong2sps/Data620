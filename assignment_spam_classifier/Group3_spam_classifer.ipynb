{
 "cells": [
  {
   "cell_type": "code",
   "execution_count": 7,
   "metadata": {},
   "outputs": [],
   "source": [
    "import numpy as np\n",
    "import pandas as pd\n",
    "import matplotlib.pyplot as plt\n",
    "from pandas import Series, DataFrame\n",
    "\n",
    "import scipy\n",
    "from scipy.stats import spearmanr\n",
    "from pylab import rcParams\n",
    "import seaborn as sb\n",
    "import matplotlib.pyplot as plt\n",
    "\n",
    "import sklearn\n",
    "from sklearn.preprocessing import scale\n",
    "\n",
    "from sklearn.linear_model import LogisticRegression\n",
    "import xgboost\n",
    "\n",
    "from sklearn.model_selection import train_test_split\n",
    "from sklearn import metrics\n",
    "from sklearn import preprocessing\n",
    "\n",
    "from sklearn.metrics import classification_report\n",
    "from yellowbrick.classifier import ClassificationReport\n"
   ]
  },
  {
   "cell_type": "code",
   "execution_count": 9,
   "metadata": {},
   "outputs": [],
   "source": [
    "url='https://github.com/yuenwong2sps/Data620/raw/master/assignment_spam_classifier/spambase_test/spambase.data'\n",
    "raw=pd.read_csv(url)"
   ]
  },
  {
   "cell_type": "code",
   "execution_count": 10,
   "metadata": {},
   "outputs": [
    {
     "data": {
      "text/plain": [
       "(4600, 58)"
      ]
     },
     "execution_count": 10,
     "metadata": {},
     "output_type": "execute_result"
    }
   ],
   "source": [
    "raw.shape"
   ]
  },
  {
   "cell_type": "code",
   "execution_count": 11,
   "metadata": {},
   "outputs": [
    {
     "data": {
      "text/plain": [
       "4600"
      ]
     },
     "execution_count": 11,
     "metadata": {},
     "output_type": "execute_result"
    }
   ],
   "source": [
    "raw.shape[0]"
   ]
  },
  {
   "cell_type": "markdown",
   "metadata": {},
   "source": [
    "need to add column headers?"
   ]
  },
  {
   "cell_type": "code",
   "execution_count": 12,
   "metadata": {},
   "outputs": [],
   "source": [
    "url2='https://raw.githubusercontent.com/yuenwong2sps/Data620/master/assignment_spam_classifier/columnHeaders.csv'\n",
    "raw_header=pd.read_csv(url2)"
   ]
  },
  {
   "cell_type": "code",
   "execution_count": 15,
   "metadata": {},
   "outputs": [],
   "source": [
    "raw_header.columns\n",
    "raw.columns = raw_header.columns"
   ]
  },
  {
   "cell_type": "code",
   "execution_count": 16,
   "metadata": {},
   "outputs": [
    {
     "name": "stdout",
     "output_type": "stream",
     "text": [
      "<class 'pandas.core.frame.DataFrame'>\n",
      "RangeIndex: 4600 entries, 0 to 4599\n",
      "Data columns (total 58 columns):\n",
      "_make                         4600 non-null float64\n",
      "_address                      4600 non-null float64\n",
      "_all                          4600 non-null float64\n",
      "_3d                           4600 non-null float64\n",
      "_our                          4600 non-null float64\n",
      "_over                         4600 non-null float64\n",
      "_remove                       4600 non-null float64\n",
      "_internet                     4600 non-null float64\n",
      "_order                        4600 non-null float64\n",
      "_mail                         4600 non-null float64\n",
      "_receive                      4600 non-null float64\n",
      "_will                         4600 non-null float64\n",
      "_people                       4600 non-null float64\n",
      "_report                       4600 non-null float64\n",
      "_addresses                    4600 non-null float64\n",
      "_free                         4600 non-null float64\n",
      "_business                     4600 non-null float64\n",
      "_email                        4600 non-null float64\n",
      "_you                          4600 non-null float64\n",
      "_credit                       4600 non-null float64\n",
      "_your                         4600 non-null float64\n",
      "_font                         4600 non-null float64\n",
      "_000                          4600 non-null float64\n",
      "_money                        4600 non-null float64\n",
      "_hp                           4600 non-null float64\n",
      "_hpl                          4600 non-null float64\n",
      "_george                       4600 non-null float64\n",
      "_650                          4600 non-null float64\n",
      "_lab                          4600 non-null float64\n",
      "_labs                         4600 non-null float64\n",
      "_telnet                       4600 non-null float64\n",
      "_857                          4600 non-null float64\n",
      "_data                         4600 non-null float64\n",
      "_415                          4600 non-null float64\n",
      "_85                           4600 non-null float64\n",
      "_technology                   4600 non-null float64\n",
      "_1999                         4600 non-null float64\n",
      "_parts                        4600 non-null float64\n",
      "_pm                           4600 non-null float64\n",
      "_direct                       4600 non-null float64\n",
      "_cs                           4600 non-null float64\n",
      "_meeting                      4600 non-null float64\n",
      "_original                     4600 non-null float64\n",
      "_project                      4600 non-null float64\n",
      "_re                           4600 non-null float64\n",
      "_edu                          4600 non-null float64\n",
      "_table                        4600 non-null float64\n",
      "_conference                   4600 non-null float64\n",
      "_;                            4600 non-null float64\n",
      "_(                            4600 non-null float64\n",
      "_[                            4600 non-null float64\n",
      "_!                            4600 non-null float64\n",
      "_$                            4600 non-null float64\n",
      "_#                            4600 non-null float64\n",
      "capital_run_length_average    4600 non-null float64\n",
      "capital_run_length_longest    4600 non-null int64\n",
      "capital_run_length_total      4600 non-null int64\n",
      "is_spam                       4600 non-null int64\n",
      "dtypes: float64(55), int64(3)\n",
      "memory usage: 2.0 MB\n"
     ]
    }
   ],
   "source": [
    "#Check if there are null value in the data set\n",
    "raw.info()"
   ]
  },
  {
   "cell_type": "code",
   "execution_count": 17,
   "metadata": {},
   "outputs": [
    {
     "name": "stdout",
     "output_type": "stream",
     "text": [
      "1812\n"
     ]
    }
   ],
   "source": [
    "print (raw.is_spam.sum())"
   ]
  },
  {
   "cell_type": "code",
   "execution_count": 18,
   "metadata": {},
   "outputs": [
    {
     "data": {
      "text/plain": [
       "<matplotlib.axes._subplots.AxesSubplot at 0x186a90efb70>"
      ]
     },
     "execution_count": 18,
     "metadata": {},
     "output_type": "execute_result"
    },
    {
     "data": {
      "image/png": "[encoded data removed]",
      "text/plain": [
       "<Figure size 432x288 with 1 Axes>"
      ]
     },
     "metadata": {
      "needs_background": "light"
     },
     "output_type": "display_data"
    }
   ],
   "source": [
    "sb.countplot(x='is_spam',data=raw, palette = 'hls')"
   ]
  },
  {
   "cell_type": "code",
   "execution_count": 29,
   "metadata": {},
   "outputs": [
    {
     "data": {
      "text/html": [
       "<div>\n",
       "<style scoped>\n",
       "    .dataframe tbody tr th:only-of-type {\n",
       "        vertical-align: middle;\n",
       "    }\n",
       "\n",
       "    .dataframe tbody tr th {\n",
       "        vertical-align: top;\n",
       "    }\n",
       "\n",
       "    .dataframe thead th {\n",
       "        text-align: right;\n",
       "    }\n",
       "</style>\n",
       "<table border=\"1\" class=\"dataframe\">\n",
       "  <thead>\n",
       "    <tr style=\"text-align: right;\">\n",
       "      <th></th>\n",
       "      <th>_make</th>\n",
       "      <th>_address</th>\n",
       "      <th>_all</th>\n",
       "      <th>_3d</th>\n",
       "      <th>_our</th>\n",
       "      <th>_over</th>\n",
       "      <th>_remove</th>\n",
       "      <th>_internet</th>\n",
       "      <th>_order</th>\n",
       "      <th>_mail</th>\n",
       "      <th>...</th>\n",
       "      <th>_;</th>\n",
       "      <th>_(</th>\n",
       "      <th>_[</th>\n",
       "      <th>_!</th>\n",
       "      <th>_$</th>\n",
       "      <th>_#</th>\n",
       "      <th>capital_run_length_average</th>\n",
       "      <th>capital_run_length_longest</th>\n",
       "      <th>capital_run_length_total</th>\n",
       "      <th>is_spam</th>\n",
       "    </tr>\n",
       "  </thead>\n",
       "  <tbody>\n",
       "    <tr>\n",
       "      <th>0</th>\n",
       "      <td>0.21</td>\n",
       "      <td>0.28</td>\n",
       "      <td>0.50</td>\n",
       "      <td>0.0</td>\n",
       "      <td>0.14</td>\n",
       "      <td>0.28</td>\n",
       "      <td>0.21</td>\n",
       "      <td>0.07</td>\n",
       "      <td>0.00</td>\n",
       "      <td>0.94</td>\n",
       "      <td>...</td>\n",
       "      <td>0.000</td>\n",
       "      <td>0.132</td>\n",
       "      <td>0.0</td>\n",
       "      <td>0.372</td>\n",
       "      <td>0.180</td>\n",
       "      <td>0.048</td>\n",
       "      <td>5.114</td>\n",
       "      <td>101</td>\n",
       "      <td>1028</td>\n",
       "      <td>1</td>\n",
       "    </tr>\n",
       "    <tr>\n",
       "      <th>1</th>\n",
       "      <td>0.06</td>\n",
       "      <td>0.00</td>\n",
       "      <td>0.71</td>\n",
       "      <td>0.0</td>\n",
       "      <td>1.23</td>\n",
       "      <td>0.19</td>\n",
       "      <td>0.19</td>\n",
       "      <td>0.12</td>\n",
       "      <td>0.64</td>\n",
       "      <td>0.25</td>\n",
       "      <td>...</td>\n",
       "      <td>0.010</td>\n",
       "      <td>0.143</td>\n",
       "      <td>0.0</td>\n",
       "      <td>0.276</td>\n",
       "      <td>0.184</td>\n",
       "      <td>0.010</td>\n",
       "      <td>9.821</td>\n",
       "      <td>485</td>\n",
       "      <td>2259</td>\n",
       "      <td>1</td>\n",
       "    </tr>\n",
       "    <tr>\n",
       "      <th>2</th>\n",
       "      <td>0.00</td>\n",
       "      <td>0.00</td>\n",
       "      <td>0.00</td>\n",
       "      <td>0.0</td>\n",
       "      <td>0.63</td>\n",
       "      <td>0.00</td>\n",
       "      <td>0.31</td>\n",
       "      <td>0.63</td>\n",
       "      <td>0.31</td>\n",
       "      <td>0.63</td>\n",
       "      <td>...</td>\n",
       "      <td>0.000</td>\n",
       "      <td>0.137</td>\n",
       "      <td>0.0</td>\n",
       "      <td>0.137</td>\n",
       "      <td>0.000</td>\n",
       "      <td>0.000</td>\n",
       "      <td>3.537</td>\n",
       "      <td>40</td>\n",
       "      <td>191</td>\n",
       "      <td>1</td>\n",
       "    </tr>\n",
       "    <tr>\n",
       "      <th>3</th>\n",
       "      <td>0.00</td>\n",
       "      <td>0.00</td>\n",
       "      <td>0.00</td>\n",
       "      <td>0.0</td>\n",
       "      <td>0.63</td>\n",
       "      <td>0.00</td>\n",
       "      <td>0.31</td>\n",
       "      <td>0.63</td>\n",
       "      <td>0.31</td>\n",
       "      <td>0.63</td>\n",
       "      <td>...</td>\n",
       "      <td>0.000</td>\n",
       "      <td>0.135</td>\n",
       "      <td>0.0</td>\n",
       "      <td>0.135</td>\n",
       "      <td>0.000</td>\n",
       "      <td>0.000</td>\n",
       "      <td>3.537</td>\n",
       "      <td>40</td>\n",
       "      <td>191</td>\n",
       "      <td>1</td>\n",
       "    </tr>\n",
       "    <tr>\n",
       "      <th>4</th>\n",
       "      <td>0.00</td>\n",
       "      <td>0.00</td>\n",
       "      <td>0.00</td>\n",
       "      <td>0.0</td>\n",
       "      <td>1.85</td>\n",
       "      <td>0.00</td>\n",
       "      <td>0.00</td>\n",
       "      <td>1.85</td>\n",
       "      <td>0.00</td>\n",
       "      <td>0.00</td>\n",
       "      <td>...</td>\n",
       "      <td>0.000</td>\n",
       "      <td>0.223</td>\n",
       "      <td>0.0</td>\n",
       "      <td>0.000</td>\n",
       "      <td>0.000</td>\n",
       "      <td>0.000</td>\n",
       "      <td>3.000</td>\n",
       "      <td>15</td>\n",
       "      <td>54</td>\n",
       "      <td>1</td>\n",
       "    </tr>\n",
       "    <tr>\n",
       "      <th>5</th>\n",
       "      <td>0.00</td>\n",
       "      <td>0.00</td>\n",
       "      <td>0.00</td>\n",
       "      <td>0.0</td>\n",
       "      <td>1.92</td>\n",
       "      <td>0.00</td>\n",
       "      <td>0.00</td>\n",
       "      <td>0.00</td>\n",
       "      <td>0.00</td>\n",
       "      <td>0.64</td>\n",
       "      <td>...</td>\n",
       "      <td>0.000</td>\n",
       "      <td>0.054</td>\n",
       "      <td>0.0</td>\n",
       "      <td>0.164</td>\n",
       "      <td>0.054</td>\n",
       "      <td>0.000</td>\n",
       "      <td>1.671</td>\n",
       "      <td>4</td>\n",
       "      <td>112</td>\n",
       "      <td>1</td>\n",
       "    </tr>\n",
       "    <tr>\n",
       "      <th>6</th>\n",
       "      <td>0.00</td>\n",
       "      <td>0.00</td>\n",
       "      <td>0.00</td>\n",
       "      <td>0.0</td>\n",
       "      <td>1.88</td>\n",
       "      <td>0.00</td>\n",
       "      <td>0.00</td>\n",
       "      <td>1.88</td>\n",
       "      <td>0.00</td>\n",
       "      <td>0.00</td>\n",
       "      <td>...</td>\n",
       "      <td>0.000</td>\n",
       "      <td>0.206</td>\n",
       "      <td>0.0</td>\n",
       "      <td>0.000</td>\n",
       "      <td>0.000</td>\n",
       "      <td>0.000</td>\n",
       "      <td>2.450</td>\n",
       "      <td>11</td>\n",
       "      <td>49</td>\n",
       "      <td>1</td>\n",
       "    </tr>\n",
       "    <tr>\n",
       "      <th>7</th>\n",
       "      <td>0.15</td>\n",
       "      <td>0.00</td>\n",
       "      <td>0.46</td>\n",
       "      <td>0.0</td>\n",
       "      <td>0.61</td>\n",
       "      <td>0.00</td>\n",
       "      <td>0.30</td>\n",
       "      <td>0.00</td>\n",
       "      <td>0.92</td>\n",
       "      <td>0.76</td>\n",
       "      <td>...</td>\n",
       "      <td>0.000</td>\n",
       "      <td>0.271</td>\n",
       "      <td>0.0</td>\n",
       "      <td>0.181</td>\n",
       "      <td>0.203</td>\n",
       "      <td>0.022</td>\n",
       "      <td>9.744</td>\n",
       "      <td>445</td>\n",
       "      <td>1257</td>\n",
       "      <td>1</td>\n",
       "    </tr>\n",
       "    <tr>\n",
       "      <th>8</th>\n",
       "      <td>0.06</td>\n",
       "      <td>0.12</td>\n",
       "      <td>0.77</td>\n",
       "      <td>0.0</td>\n",
       "      <td>0.19</td>\n",
       "      <td>0.32</td>\n",
       "      <td>0.38</td>\n",
       "      <td>0.00</td>\n",
       "      <td>0.06</td>\n",
       "      <td>0.00</td>\n",
       "      <td>...</td>\n",
       "      <td>0.040</td>\n",
       "      <td>0.030</td>\n",
       "      <td>0.0</td>\n",
       "      <td>0.244</td>\n",
       "      <td>0.081</td>\n",
       "      <td>0.000</td>\n",
       "      <td>1.729</td>\n",
       "      <td>43</td>\n",
       "      <td>749</td>\n",
       "      <td>1</td>\n",
       "    </tr>\n",
       "    <tr>\n",
       "      <th>9</th>\n",
       "      <td>0.00</td>\n",
       "      <td>0.00</td>\n",
       "      <td>0.00</td>\n",
       "      <td>0.0</td>\n",
       "      <td>0.00</td>\n",
       "      <td>0.00</td>\n",
       "      <td>0.96</td>\n",
       "      <td>0.00</td>\n",
       "      <td>0.00</td>\n",
       "      <td>1.92</td>\n",
       "      <td>...</td>\n",
       "      <td>0.000</td>\n",
       "      <td>0.000</td>\n",
       "      <td>0.0</td>\n",
       "      <td>0.462</td>\n",
       "      <td>0.000</td>\n",
       "      <td>0.000</td>\n",
       "      <td>1.312</td>\n",
       "      <td>6</td>\n",
       "      <td>21</td>\n",
       "      <td>1</td>\n",
       "    </tr>\n",
       "    <tr>\n",
       "      <th>10</th>\n",
       "      <td>0.00</td>\n",
       "      <td>0.00</td>\n",
       "      <td>0.25</td>\n",
       "      <td>0.0</td>\n",
       "      <td>0.38</td>\n",
       "      <td>0.25</td>\n",
       "      <td>0.25</td>\n",
       "      <td>0.00</td>\n",
       "      <td>0.00</td>\n",
       "      <td>0.00</td>\n",
       "      <td>...</td>\n",
       "      <td>0.022</td>\n",
       "      <td>0.044</td>\n",
       "      <td>0.0</td>\n",
       "      <td>0.663</td>\n",
       "      <td>0.000</td>\n",
       "      <td>0.000</td>\n",
       "      <td>1.243</td>\n",
       "      <td>11</td>\n",
       "      <td>184</td>\n",
       "      <td>1</td>\n",
       "    </tr>\n",
       "    <tr>\n",
       "      <th>11</th>\n",
       "      <td>0.00</td>\n",
       "      <td>0.69</td>\n",
       "      <td>0.34</td>\n",
       "      <td>0.0</td>\n",
       "      <td>0.34</td>\n",
       "      <td>0.00</td>\n",
       "      <td>0.00</td>\n",
       "      <td>0.00</td>\n",
       "      <td>0.00</td>\n",
       "      <td>0.00</td>\n",
       "      <td>...</td>\n",
       "      <td>0.000</td>\n",
       "      <td>0.056</td>\n",
       "      <td>0.0</td>\n",
       "      <td>0.786</td>\n",
       "      <td>0.000</td>\n",
       "      <td>0.000</td>\n",
       "      <td>3.728</td>\n",
       "      <td>61</td>\n",
       "      <td>261</td>\n",
       "      <td>1</td>\n",
       "    </tr>\n",
       "    <tr>\n",
       "      <th>12</th>\n",
       "      <td>0.00</td>\n",
       "      <td>0.00</td>\n",
       "      <td>0.00</td>\n",
       "      <td>0.0</td>\n",
       "      <td>0.90</td>\n",
       "      <td>0.00</td>\n",
       "      <td>0.90</td>\n",
       "      <td>0.00</td>\n",
       "      <td>0.00</td>\n",
       "      <td>0.90</td>\n",
       "      <td>...</td>\n",
       "      <td>0.000</td>\n",
       "      <td>0.000</td>\n",
       "      <td>0.0</td>\n",
       "      <td>0.000</td>\n",
       "      <td>0.000</td>\n",
       "      <td>0.000</td>\n",
       "      <td>2.083</td>\n",
       "      <td>7</td>\n",
       "      <td>25</td>\n",
       "      <td>1</td>\n",
       "    </tr>\n",
       "    <tr>\n",
       "      <th>13</th>\n",
       "      <td>0.00</td>\n",
       "      <td>0.00</td>\n",
       "      <td>1.42</td>\n",
       "      <td>0.0</td>\n",
       "      <td>0.71</td>\n",
       "      <td>0.35</td>\n",
       "      <td>0.00</td>\n",
       "      <td>0.35</td>\n",
       "      <td>0.00</td>\n",
       "      <td>0.71</td>\n",
       "      <td>...</td>\n",
       "      <td>0.000</td>\n",
       "      <td>0.102</td>\n",
       "      <td>0.0</td>\n",
       "      <td>0.357</td>\n",
       "      <td>0.000</td>\n",
       "      <td>0.000</td>\n",
       "      <td>1.971</td>\n",
       "      <td>24</td>\n",
       "      <td>205</td>\n",
       "      <td>1</td>\n",
       "    </tr>\n",
       "    <tr>\n",
       "      <th>14</th>\n",
       "      <td>0.00</td>\n",
       "      <td>0.42</td>\n",
       "      <td>0.42</td>\n",
       "      <td>0.0</td>\n",
       "      <td>1.27</td>\n",
       "      <td>0.00</td>\n",
       "      <td>0.42</td>\n",
       "      <td>0.00</td>\n",
       "      <td>0.00</td>\n",
       "      <td>1.27</td>\n",
       "      <td>...</td>\n",
       "      <td>0.000</td>\n",
       "      <td>0.063</td>\n",
       "      <td>0.0</td>\n",
       "      <td>0.572</td>\n",
       "      <td>0.063</td>\n",
       "      <td>0.000</td>\n",
       "      <td>5.659</td>\n",
       "      <td>55</td>\n",
       "      <td>249</td>\n",
       "      <td>1</td>\n",
       "    </tr>\n",
       "    <tr>\n",
       "      <th>15</th>\n",
       "      <td>0.00</td>\n",
       "      <td>0.00</td>\n",
       "      <td>0.00</td>\n",
       "      <td>0.0</td>\n",
       "      <td>0.94</td>\n",
       "      <td>0.00</td>\n",
       "      <td>0.00</td>\n",
       "      <td>0.00</td>\n",
       "      <td>0.00</td>\n",
       "      <td>0.00</td>\n",
       "      <td>...</td>\n",
       "      <td>0.000</td>\n",
       "      <td>0.000</td>\n",
       "      <td>0.0</td>\n",
       "      <td>0.428</td>\n",
       "      <td>0.000</td>\n",
       "      <td>0.000</td>\n",
       "      <td>4.652</td>\n",
       "      <td>31</td>\n",
       "      <td>107</td>\n",
       "      <td>1</td>\n",
       "    </tr>\n",
       "    <tr>\n",
       "      <th>16</th>\n",
       "      <td>0.00</td>\n",
       "      <td>0.00</td>\n",
       "      <td>0.00</td>\n",
       "      <td>0.0</td>\n",
       "      <td>0.00</td>\n",
       "      <td>0.00</td>\n",
       "      <td>0.00</td>\n",
       "      <td>0.00</td>\n",
       "      <td>0.00</td>\n",
       "      <td>0.00</td>\n",
       "      <td>...</td>\n",
       "      <td>0.000</td>\n",
       "      <td>0.000</td>\n",
       "      <td>0.0</td>\n",
       "      <td>1.975</td>\n",
       "      <td>0.370</td>\n",
       "      <td>0.000</td>\n",
       "      <td>35.461</td>\n",
       "      <td>95</td>\n",
       "      <td>461</td>\n",
       "      <td>1</td>\n",
       "    </tr>\n",
       "    <tr>\n",
       "      <th>17</th>\n",
       "      <td>0.00</td>\n",
       "      <td>0.00</td>\n",
       "      <td>0.55</td>\n",
       "      <td>0.0</td>\n",
       "      <td>1.11</td>\n",
       "      <td>0.00</td>\n",
       "      <td>0.18</td>\n",
       "      <td>0.00</td>\n",
       "      <td>0.00</td>\n",
       "      <td>0.00</td>\n",
       "      <td>...</td>\n",
       "      <td>0.000</td>\n",
       "      <td>0.182</td>\n",
       "      <td>0.0</td>\n",
       "      <td>0.455</td>\n",
       "      <td>0.000</td>\n",
       "      <td>0.000</td>\n",
       "      <td>1.320</td>\n",
       "      <td>4</td>\n",
       "      <td>70</td>\n",
       "      <td>1</td>\n",
       "    </tr>\n",
       "    <tr>\n",
       "      <th>18</th>\n",
       "      <td>0.00</td>\n",
       "      <td>0.63</td>\n",
       "      <td>0.00</td>\n",
       "      <td>0.0</td>\n",
       "      <td>1.59</td>\n",
       "      <td>0.31</td>\n",
       "      <td>0.00</td>\n",
       "      <td>0.00</td>\n",
       "      <td>0.31</td>\n",
       "      <td>0.00</td>\n",
       "      <td>...</td>\n",
       "      <td>0.000</td>\n",
       "      <td>0.275</td>\n",
       "      <td>0.0</td>\n",
       "      <td>0.055</td>\n",
       "      <td>0.496</td>\n",
       "      <td>0.000</td>\n",
       "      <td>3.509</td>\n",
       "      <td>91</td>\n",
       "      <td>186</td>\n",
       "      <td>1</td>\n",
       "    </tr>\n",
       "    <tr>\n",
       "      <th>19</th>\n",
       "      <td>0.00</td>\n",
       "      <td>0.00</td>\n",
       "      <td>0.00</td>\n",
       "      <td>0.0</td>\n",
       "      <td>0.00</td>\n",
       "      <td>0.00</td>\n",
       "      <td>0.00</td>\n",
       "      <td>0.00</td>\n",
       "      <td>0.00</td>\n",
       "      <td>0.00</td>\n",
       "      <td>...</td>\n",
       "      <td>0.000</td>\n",
       "      <td>0.729</td>\n",
       "      <td>0.0</td>\n",
       "      <td>0.729</td>\n",
       "      <td>0.000</td>\n",
       "      <td>0.000</td>\n",
       "      <td>3.833</td>\n",
       "      <td>9</td>\n",
       "      <td>23</td>\n",
       "      <td>1</td>\n",
       "    </tr>\n",
       "  </tbody>\n",
       "</table>\n",
       "<p>20 rows × 58 columns</p>\n",
       "</div>"
      ],
      "text/plain": [
       "    _make  _address  _all  _3d  _our  _over  _remove  _internet  _order  \\\n",
       "0    0.21      0.28  0.50  0.0  0.14   0.28     0.21       0.07    0.00   \n",
       "1    0.06      0.00  0.71  0.0  1.23   0.19     0.19       0.12    0.64   \n",
       "2    0.00      0.00  0.00  0.0  0.63   0.00     0.31       0.63    0.31   \n",
       "3    0.00      0.00  0.00  0.0  0.63   0.00     0.31       0.63    0.31   \n",
       "4    0.00      0.00  0.00  0.0  1.85   0.00     0.00       1.85    0.00   \n",
       "5    0.00      0.00  0.00  0.0  1.92   0.00     0.00       0.00    0.00   \n",
       "6    0.00      0.00  0.00  0.0  1.88   0.00     0.00       1.88    0.00   \n",
       "7    0.15      0.00  0.46  0.0  0.61   0.00     0.30       0.00    0.92   \n",
       "8    0.06      0.12  0.77  0.0  0.19   0.32     0.38       0.00    0.06   \n",
       "9    0.00      0.00  0.00  0.0  0.00   0.00     0.96       0.00    0.00   \n",
       "10   0.00      0.00  0.25  0.0  0.38   0.25     0.25       0.00    0.00   \n",
       "11   0.00      0.69  0.34  0.0  0.34   0.00     0.00       0.00    0.00   \n",
       "12   0.00      0.00  0.00  0.0  0.90   0.00     0.90       0.00    0.00   \n",
       "13   0.00      0.00  1.42  0.0  0.71   0.35     0.00       0.35    0.00   \n",
       "14   0.00      0.42  0.42  0.0  1.27   0.00     0.42       0.00    0.00   \n",
       "15   0.00      0.00  0.00  0.0  0.94   0.00     0.00       0.00    0.00   \n",
       "16   0.00      0.00  0.00  0.0  0.00   0.00     0.00       0.00    0.00   \n",
       "17   0.00      0.00  0.55  0.0  1.11   0.00     0.18       0.00    0.00   \n",
       "18   0.00      0.63  0.00  0.0  1.59   0.31     0.00       0.00    0.31   \n",
       "19   0.00      0.00  0.00  0.0  0.00   0.00     0.00       0.00    0.00   \n",
       "\n",
       "    _mail   ...        _;     _(   _[     _!     _$     _#  \\\n",
       "0    0.94   ...     0.000  0.132  0.0  0.372  0.180  0.048   \n",
       "1    0.25   ...     0.010  0.143  0.0  0.276  0.184  0.010   \n",
       "2    0.63   ...     0.000  0.137  0.0  0.137  0.000  0.000   \n",
       "3    0.63   ...     0.000  0.135  0.0  0.135  0.000  0.000   \n",
       "4    0.00   ...     0.000  0.223  0.0  0.000  0.000  0.000   \n",
       "5    0.64   ...     0.000  0.054  0.0  0.164  0.054  0.000   \n",
       "6    0.00   ...     0.000  0.206  0.0  0.000  0.000  0.000   \n",
       "7    0.76   ...     0.000  0.271  0.0  0.181  0.203  0.022   \n",
       "8    0.00   ...     0.040  0.030  0.0  0.244  0.081  0.000   \n",
       "9    1.92   ...     0.000  0.000  0.0  0.462  0.000  0.000   \n",
       "10   0.00   ...     0.022  0.044  0.0  0.663  0.000  0.000   \n",
       "11   0.00   ...     0.000  0.056  0.0  0.786  0.000  0.000   \n",
       "12   0.90   ...     0.000  0.000  0.0  0.000  0.000  0.000   \n",
       "13   0.71   ...     0.000  0.102  0.0  0.357  0.000  0.000   \n",
       "14   1.27   ...     0.000  0.063  0.0  0.572  0.063  0.000   \n",
       "15   0.00   ...     0.000  0.000  0.0  0.428  0.000  0.000   \n",
       "16   0.00   ...     0.000  0.000  0.0  1.975  0.370  0.000   \n",
       "17   0.00   ...     0.000  0.182  0.0  0.455  0.000  0.000   \n",
       "18   0.00   ...     0.000  0.275  0.0  0.055  0.496  0.000   \n",
       "19   0.00   ...     0.000  0.729  0.0  0.729  0.000  0.000   \n",
       "\n",
       "    capital_run_length_average  capital_run_length_longest  \\\n",
       "0                        5.114                         101   \n",
       "1                        9.821                         485   \n",
       "2                        3.537                          40   \n",
       "3                        3.537                          40   \n",
       "4                        3.000                          15   \n",
       "5                        1.671                           4   \n",
       "6                        2.450                          11   \n",
       "7                        9.744                         445   \n",
       "8                        1.729                          43   \n",
       "9                        1.312                           6   \n",
       "10                       1.243                          11   \n",
       "11                       3.728                          61   \n",
       "12                       2.083                           7   \n",
       "13                       1.971                          24   \n",
       "14                       5.659                          55   \n",
       "15                       4.652                          31   \n",
       "16                      35.461                          95   \n",
       "17                       1.320                           4   \n",
       "18                       3.509                          91   \n",
       "19                       3.833                           9   \n",
       "\n",
       "    capital_run_length_total  is_spam  \n",
       "0                       1028        1  \n",
       "1                       2259        1  \n",
       "2                        191        1  \n",
       "3                        191        1  \n",
       "4                         54        1  \n",
       "5                        112        1  \n",
       "6                         49        1  \n",
       "7                       1257        1  \n",
       "8                        749        1  \n",
       "9                         21        1  \n",
       "10                       184        1  \n",
       "11                       261        1  \n",
       "12                        25        1  \n",
       "13                       205        1  \n",
       "14                       249        1  \n",
       "15                       107        1  \n",
       "16                       461        1  \n",
       "17                        70        1  \n",
       "18                       186        1  \n",
       "19                        23        1  \n",
       "\n",
       "[20 rows x 58 columns]"
      ]
     },
     "execution_count": 29,
     "metadata": {},
     "output_type": "execute_result"
    }
   ],
   "source": [
    "raw.head(20)"
   ]
  },
  {
   "cell_type": "markdown",
   "metadata": {},
   "source": [
    "#find the most correlation columns\n",
    "raw.corr()['is_spam'].abs().sort_values(ascending=False)"
   ]
  },
  {
   "cell_type": "code",
   "execution_count": null,
   "metadata": {},
   "outputs": [],
   "source": []
  },
  {
   "cell_type": "code",
   "execution_count": null,
   "metadata": {},
   "outputs": [],
   "source": []
  },
  {
   "cell_type": "code",
   "execution_count": null,
   "metadata": {},
   "outputs": [],
   "source": []
  },
  {
   "cell_type": "code",
   "execution_count": null,
   "metadata": {},
   "outputs": [],
   "source": []
  },
  {
   "cell_type": "code",
   "execution_count": null,
   "metadata": {},
   "outputs": [],
   "source": []
  },
  {
   "cell_type": "markdown",
   "metadata": {},
   "source": [
    "The Spearman’s Rank Correlation Coefficient is the non-parametric statistical measure used to study the strength of association between the two ranked variables. This method is applied to the ordinal set of numbers, which can be arranged in order, i.e. one after the other so that ranks can be given to each."
   ]
  },
  {
   "cell_type": "code",
   "execution_count": 20,
   "metadata": {},
   "outputs": [
    {
     "name": "stdout",
     "output_type": "stream",
     "text": [
      "Spearmanr Rank Correlation Cofeficient  0.502\n",
      "1.2845476693169102e-291\n"
     ]
    }
   ],
   "source": [
    "spearmanr_coefficient, p_value=spearmanr(raw._your,raw.is_spam)\n",
    "print ('Spearmanr Rank Correlation Cofeficient  %0.3f' % (spearmanr_coefficient)  % p_value)\n",
    "print(p_value)"
   ]
  },
  {
   "cell_type": "code",
   "execution_count": 21,
   "metadata": {},
   "outputs": [
    {
     "name": "stdout",
     "output_type": "stream",
     "text": [
      "Spearmanr Rank Correlation Cofeficient  : \n",
      "_make: 0.24089 ;  p_value: 0.0\n",
      "_address: 0.29714 ;  p_value: 0.0\n",
      "_all: 0.33261 ;  p_value: 0.0\n",
      "_3d: 0.09082 ;  p_value: 0.0\n",
      "_our: 0.409 ;  p_value: 0.0\n",
      "_over: 0.31885 ;  p_value: 0.0\n",
      "_remove: 0.519 ;  p_value: 0.0\n",
      "_internet: 0.34399 ;  p_value: 0.0\n",
      "_order: 0.30091 ;  p_value: 0.0\n",
      "_mail: 0.29705 ;  p_value: 0.0\n",
      "_receive: 0.35515 ;  p_value: 0.0\n",
      "_will: 0.14833 ;  p_value: 0.0\n",
      "_people: 0.21304 ;  p_value: 0.0\n",
      "_report: 0.14988 ;  p_value: 0.0\n",
      "_addresses: 0.26528 ;  p_value: 0.0\n",
      "_free: 0.50399 ;  p_value: 0.0\n",
      "_business: 0.35311 ;  p_value: 0.0\n",
      "_email: 0.29872 ;  p_value: 0.0\n",
      "_you: 0.36106 ;  p_value: 0.0\n",
      "_credit: 0.32433 ;  p_value: 0.0\n",
      "_your: 0.50152 ;  p_value: 0.0\n",
      "_font: 0.13804 ;  p_value: 0.0\n",
      "_000: 0.42599 ;  p_value: 0.0\n",
      "_money: 0.47236 ;  p_value: 0.0\n",
      "_hp: -0.39975 ;  p_value: 0.0\n",
      "_hpl: -0.34182 ;  p_value: 0.0\n",
      "_george: -0.35388 ;  p_value: 0.0\n",
      "_650: -0.22614 ;  p_value: 0.0\n",
      "_lab: -0.22065 ;  p_value: 0.0\n",
      "_labs: -0.24576 ;  p_value: 0.0\n",
      "_telnet: -0.20464 ;  p_value: 0.0\n",
      "_857: -0.16981 ;  p_value: 0.0\n",
      "_data: -0.15751 ;  p_value: 0.0\n",
      "_415: -0.158 ;  p_value: 0.0\n",
      "_85: -0.21408 ;  p_value: 0.0\n",
      "_technology: -0.16673 ;  p_value: 0.0\n",
      "_1999: -0.26063 ;  p_value: 0.0\n",
      "_parts: -0.00249 ;  p_value: 0.86597\n",
      "_pm: -0.14716 ;  p_value: 0.0\n",
      "_direct: 0.02822 ;  p_value: 0.0556\n",
      "_cs: -0.14451 ;  p_value: 0.0\n",
      "_meeting: -0.1957 ;  p_value: 0.0\n",
      "_original: -0.10775 ;  p_value: 0.0\n",
      "_project: -0.14449 ;  p_value: 0.0\n",
      "_re: -0.07162 ;  p_value: 0.0\n",
      "_edu: -0.19697 ;  p_value: 0.0\n",
      "_table: -0.02264 ;  p_value: 0.12473\n",
      "_conference: -0.139 ;  p_value: 0.0\n",
      "_;: -0.05673 ;  p_value: 0.00012\n",
      "_(: -0.03238 ;  p_value: 0.02807\n",
      "_[: -0.11115 ;  p_value: 0.0\n",
      "_!: 0.5977 ;  p_value: 0.0\n",
      "_$: 0.56593 ;  p_value: 0.0\n",
      "_#: 0.26685 ;  p_value: 0.0\n",
      "capital_run_length_average: 0.48781 ;  p_value: 0.0\n",
      "capital_run_length_longest: 0.51499 ;  p_value: 0.0\n",
      "capital_run_length_total: 0.44386 ;  p_value: 0.0\n"
     ]
    }
   ],
   "source": [
    "def SRCC (df):\n",
    "    print ('Spearmanr Rank Correlation Cofeficient  : ')\n",
    "    for column_name, column_series in raw.iloc[:, :-1].iteritems():\n",
    "        spearmanr_coefficient, p_value=spearmanr(column_series,df.is_spam)\n",
    "        print(column_name + \": \" + str(round(spearmanr_coefficient,5)) +\" ; \" + \" p_value: \" +str(round(p_value,5)))\n",
    "\n",
    "SRCC(raw)"
   ]
  },
  {
   "cell_type": "code",
   "execution_count": 22,
   "metadata": {},
   "outputs": [],
   "source": [
    "#def SRCC_log (df):\n",
    "#    print ('Spearmanr Rank Correlation Cofeficient for log df : ')\n",
    "#    for column_name, column_series in raw.iloc[:, :-1].iteritems():\n",
    "#        spearmanr_coefficient, p_value=spearmanr(np.log(column_series),df.is_spam)\n",
    "#        print(column_name + \": \" + str(round(spearmanr_coefficient,5)) +\" ; \" + \" p_value: \" +str(round(p_value,5)))\n",
    "\n",
    "#SRCC_log(raw)"
   ]
  },
  {
   "cell_type": "code",
   "execution_count": 41,
   "metadata": {},
   "outputs": [],
   "source": [
    "new_raw=raw.drop('_parts', axis=1)\n",
    "new_raw=new_raw.drop('_direct', axis=1)\n",
    "new_raw=new_raw.drop('_table', axis=1)"
   ]
  },
  {
   "cell_type": "code",
   "execution_count": 42,
   "metadata": {},
   "outputs": [
    {
     "data": {
      "text/plain": [
       "(4600, 55)"
      ]
     },
     "execution_count": 42,
     "metadata": {},
     "output_type": "execute_result"
    }
   ],
   "source": [
    "new_raw.shape"
   ]
  },
  {
   "cell_type": "code",
   "execution_count": null,
   "metadata": {},
   "outputs": [],
   "source": []
  },
  {
   "cell_type": "markdown",
   "metadata": {},
   "source": [
    "## trucate columns"
   ]
  },
  {
   "cell_type": "code",
   "execution_count": null,
   "metadata": {},
   "outputs": [],
   "source": []
  },
  {
   "cell_type": "code",
   "execution_count": null,
   "metadata": {},
   "outputs": [],
   "source": []
  },
  {
   "cell_type": "code",
   "execution_count": null,
   "metadata": {},
   "outputs": [],
   "source": []
  },
  {
   "cell_type": "code",
   "execution_count": null,
   "metadata": {},
   "outputs": [],
   "source": []
  },
  {
   "cell_type": "code",
   "execution_count": null,
   "metadata": {},
   "outputs": [],
   "source": []
  },
  {
   "cell_type": "code",
   "execution_count": null,
   "metadata": {},
   "outputs": [],
   "source": []
  },
  {
   "cell_type": "markdown",
   "metadata": {},
   "source": [
    "## Models"
   ]
  },
  {
   "cell_type": "code",
   "execution_count": 43,
   "metadata": {},
   "outputs": [
    {
     "name": "stdout",
     "output_type": "stream",
     "text": [
      "0    2091\n",
      "1    1359\n",
      "Name: is_spam, dtype: int64\n"
     ]
    }
   ],
   "source": [
    "from sklearn.model_selection import train_test_split\n",
    "\n",
    "# Create a data with all columns except is_spam\n",
    "raw_x = new_raw.drop(\"is_spam\", axis=1)\n",
    "\n",
    "# Create a is_spam labels dataset\n",
    "raw_y = new_raw[[\"is_spam\"]]\n",
    "\n",
    "# Use stratified sampling to split up the dataset according to the raw_y dataset\n",
    "# by default data will be split in 75% into train set and 25% into test set\n",
    "# spam vs non_spam is 1812 : 2788, nearly close to ratio 40% vs 60% \n",
    "# to use stratify sampling method to due with the unbalnace data set\n",
    "\n",
    "X_train, X_test, y_train, y_test = train_test_split(raw_x, raw_y, stratify=raw_y)\n",
    "\n",
    "# Print out the category_desc counts on the training y labels\n",
    "print(y_train[\"is_spam\"].value_counts())"
   ]
  },
  {
   "cell_type": "code",
   "execution_count": 44,
   "metadata": {},
   "outputs": [
    {
     "name": "stderr",
     "output_type": "stream",
     "text": [
      "C:\\Users\\czhu5\\Anaconda3\\lib\\site-packages\\ipykernel_launcher.py:1: DataConversionWarning: Data with input dtype int64, float64 were all converted to float64 by the scale function.\n",
      "  \"\"\"Entry point for launching an IPython kernel.\n",
      "C:\\Users\\czhu5\\Anaconda3\\lib\\site-packages\\ipykernel_launcher.py:2: DataConversionWarning: Data with input dtype int64, float64 were all converted to float64 by the scale function.\n",
      "  \n"
     ]
    }
   ],
   "source": [
    "X_train_scale=scale(X_train)\n",
    "X_test_scale=scale(X_test)"
   ]
  },
  {
   "cell_type": "markdown",
   "metadata": {},
   "source": [
    "The classification report visualizer displays the precision, recall, F1, and support scores for the model. This gives a deeper intuition of the classifier behavior over global accuracy which can mask functional weaknesses in one class of a multiclass problem. \n",
    "\n",
    "The metrics are defined in terms of true and false positives, and true and false negatives. Positive and negative in this case are generic names for the classes of a binary classification problem. \n",
    "\n",
    "precision: is the ability of a classiifer not to label an instance positive that is actually negative. For each class it is defined as as the ratio of true positives to the sum of true and false positives. Said another way, “for all instances classified positive, what percent was correct?”\n",
    "\n",
    "\n",
    "Recall : is the ability of a classifier to find all positive instances. For each class it is defined as the ratio of true positives to the sum of true positives and false negatives. Said another way, “for all instances that were actually positive, what percent was classified correctly?”\n",
    "\n",
    "\n",
    "\n",
    "f1 score\n",
    "The F1 score is a weighted harmonic mean of precision and recall such that the best score is 1.0 and the worst is 0.0. Generally speaking, F1 scores are lower than accuracy measures as they embed precision and recall into their computation. As a rule of thumb, the weighted average of F1 should be used to compare classifier models, not global accuracy.\n",
    "\n",
    "\n",
    "support\n",
    "Support is the number of actual occurrences of the class in the specified dataset. Imbalanced support in the training data may indicate structural weaknesses in the reported scores of the classifier and could indicate the need for stratified sampling or rebalancing. Support doesn’t change between models but instead diagnoses the evaluation process."
   ]
  },
  {
   "cell_type": "markdown",
   "metadata": {},
   "source": [
    "### LogosticRegression"
   ]
  },
  {
   "cell_type": "code",
   "execution_count": 55,
   "metadata": {
    "scrolled": true
   },
   "outputs": [
    {
     "name": "stdout",
     "output_type": "stream",
     "text": [
      "[[658  39]\n",
      " [ 47 406]]\n"
     ]
    },
    {
     "name": "stderr",
     "output_type": "stream",
     "text": [
      "C:\\Users\\czhu5\\Anaconda3\\lib\\site-packages\\sklearn\\linear_model\\logistic.py:433: FutureWarning: Default solver will be changed to 'lbfgs' in 0.22. Specify a solver to silence this warning.\n",
      "  FutureWarning)\n",
      "C:\\Users\\czhu5\\Anaconda3\\lib\\site-packages\\sklearn\\utils\\validation.py:761: DataConversionWarning: A column-vector y was passed when a 1d array was expected. Please change the shape of y to (n_samples, ), for example using ravel().\n",
      "  y = column_or_1d(y, warn=True)\n"
     ]
    }
   ],
   "source": [
    "#print(classification_report (y_test,preds))\n",
    "LogReg = LogisticRegression()\n",
    "LogRegmodel = ClassificationReport(LogReg, classes=[\"non_spam\",\"is_spam\"], support=True)\n",
    "LogRegmodel.fit(X_train_scale, y_train)  # Fit the visualizer and the model\n",
    "LogRegpreds=LogRegmodel.predict(X_test_scale)\n",
    "\n",
    "LogRegcm = metrics.confusion_matrix(y_test,LogRegpreds)\n",
    "print(LogRegcm)  "
   ]
  },
  {
   "cell_type": "code",
   "execution_count": 49,
   "metadata": {},
   "outputs": [
    {
     "data": {
      "image/png": "[encoded data removed]",
      "text/plain": [
       "<Figure size 432x288 with 2 Axes>"
      ]
     },
     "metadata": {
      "needs_background": "light"
     },
     "output_type": "display_data"
    }
   ],
   "source": [
    "LogRegmodel.score(X_test_scale, y_test)  # Evaluate the model on the test data\n",
    "g = LogRegmodel.poof()    "
   ]
  },
  {
   "cell_type": "markdown",
   "metadata": {},
   "source": [
    "### XGboost"
   ]
  },
  {
   "cell_type": "code",
   "execution_count": 51,
   "metadata": {},
   "outputs": [
    {
     "name": "stdout",
     "output_type": "stream",
     "text": [
      "              precision    recall  f1-score   support\n",
      "\n",
      "           0       0.61      0.63      0.62       697\n",
      "           1       0.40      0.37      0.38       453\n",
      "\n",
      "   micro avg       0.53      0.53      0.53      1150\n",
      "   macro avg       0.50      0.50      0.50      1150\n",
      "weighted avg       0.52      0.53      0.53      1150\n",
      "\n"
     ]
    },
    {
     "name": "stderr",
     "output_type": "stream",
     "text": [
      "C:\\Users\\czhu5\\Anaconda3\\lib\\site-packages\\sklearn\\preprocessing\\label.py:219: DataConversionWarning: A column-vector y was passed when a 1d array was expected. Please change the shape of y to (n_samples, ), for example using ravel().\n",
      "  y = column_or_1d(y, warn=True)\n",
      "C:\\Users\\czhu5\\Anaconda3\\lib\\site-packages\\sklearn\\preprocessing\\label.py:252: DataConversionWarning: A column-vector y was passed when a 1d array was expected. Please change the shape of y to (n_samples, ), for example using ravel().\n",
      "  y = column_or_1d(y, warn=True)\n"
     ]
    },
    {
     "name": "stdout",
     "output_type": "stream",
     "text": [
      "[[676  21]\n",
      " [ 43 410]]\n"
     ]
    }
   ],
   "source": [
    "from xgboost import XGBClassifier\n",
    "XGboost= XGBClassifier()\n",
    "print(classification_report (y_test,preds))\n",
    "\n",
    "XGbmodel = ClassificationReport(XGboost, classes=[\"non_spam\",\"is_spam\"], support=True)\n",
    "\n",
    "XGbmodel.fit(X_train_scale, y_train)  # Fit the visualizer and the model\n",
    "\n",
    "XGbpeds=XGbmodel.predict(X_test_scale)\n",
    "\n",
    "XGbcm = metrics.confusion_matrix(y_test,XGbpeds)\n",
    "print(XGbcm)  "
   ]
  },
  {
   "cell_type": "code",
   "execution_count": 40,
   "metadata": {},
   "outputs": [
    {
     "data": {
      "image/png": "[encoded data removed]",
      "text/plain": [
       "<Figure size 432x288 with 2 Axes>"
      ]
     },
     "metadata": {
      "needs_background": "light"
     },
     "output_type": "display_data"
    }
   ],
   "source": [
    "XGbmodel.score(X_test_scale, y_test)  # Evaluate the model on the test data\n",
    "g = XGbmodel.poof()  "
   ]
  },
  {
   "cell_type": "code",
   "execution_count": null,
   "metadata": {},
   "outputs": [],
   "source": []
  },
  {
   "cell_type": "code",
   "execution_count": null,
   "metadata": {},
   "outputs": [],
   "source": []
  },
  {
   "cell_type": "code",
   "execution_count": null,
   "metadata": {},
   "outputs": [],
   "source": []
  },
  {
   "cell_type": "code",
   "execution_count": null,
   "metadata": {},
   "outputs": [],
   "source": []
  },
  {
   "cell_type": "code",
   "execution_count": null,
   "metadata": {},
   "outputs": [],
   "source": []
  },
  {
   "cell_type": "code",
   "execution_count": null,
   "metadata": {},
   "outputs": [],
   "source": []
  },
  {
   "cell_type": "code",
   "execution_count": null,
   "metadata": {},
   "outputs": [],
   "source": []
  },
  {
   "cell_type": "code",
   "execution_count": null,
   "metadata": {},
   "outputs": [],
   "source": []
  },
  {
   "cell_type": "code",
   "execution_count": null,
   "metadata": {},
   "outputs": [],
   "source": []
  },
  {
   "cell_type": "markdown",
   "metadata": {},
   "source": [
    "## Reference\n",
    "\n",
    "https://video.search.yahoo.com/search/video?fr=mcafee&p=how+to+implement+logistic+regression+in+python#id=6&vid=0f274214b516e1e979961c642d143363&action=view"
   ]
  },
  {
   "cell_type": "markdown",
   "metadata": {},
   "source": [
    "https://github.com/WillKoehrsen/Data-Analysis/blob/master/bayesian_lr/Bayesian%20Linear%20Regression%20Project.ipynb"
   ]
  },
  {
   "cell_type": "markdown",
   "metadata": {},
   "source": [
    "https://towardsdatascience.com/bayesian-linear-regression-in-python-using-machine-learning-to-predict-student-grades-part-2-b72059a8ac7e"
   ]
  },
  {
   "cell_type": "markdown",
   "metadata": {},
   "source": [
    "https://www.scikit-yb.org/en/latest/api/classifier/classification_report.html"
   ]
  },
  {
   "cell_type": "code",
   "execution_count": null,
   "metadata": {},
   "outputs": [],
   "source": []
  }
 ],
 "metadata": {
  "kernelspec": {
   "display_name": "Python 3",
   "language": "python",
   "name": "python3"
  },
  "language_info": {
   "codemirror_mode": {
    "name": "ipython",
    "version": 3
   },
   "file_extension": ".py",
   "mimetype": "text/x-python",
   "name": "python",
   "nbconvert_exporter": "python",
   "pygments_lexer": "ipython3",
   "version": "3.7.2"
  }
 },
 "nbformat": 4,
 "nbformat_minor": 2
}
